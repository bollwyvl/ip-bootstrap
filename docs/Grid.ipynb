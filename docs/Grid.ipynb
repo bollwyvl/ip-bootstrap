{
 "metadata": {
  "kernelspec": {
   "codemirror_mode": {
    "name": "ipython",
    "version": 3
   },
   "display_name": "IPython (Python 3)",
   "language": "python",
   "name": "python3"
  },
  "name": "",
  "signature": "sha256:3e9fb55c341440c099cef7f037dee34d1b18001d99d995652ac1b2b52990b867"
 },
 "nbformat": 3,
 "nbformat_minor": 0,
 "worksheets": [
  {
   "cells": [
    {
     "cell_type": "markdown",
     "metadata": {},
     "source": [
      "# [Grid](http://getbootstrap.com/css/#grid)\n"
     ]
    },
    {
     "cell_type": "code",
     "collapsed": false,
     "input": [
      "from IPython.html import widgets\n",
      "from ipbs.widgets import (\n",
      "    Container,\n",
      "    Row,\n",
      "    Column,\n",
      "    Label\n",
      ")\n",
      "from ipbs import bootstrap as bs\n",
      "contexts = list(bs.Context)\n",
      "\n",
      "cols = [\n",
      "    Column(\n",
      "        Label(context),\n",
      "        context=context\n",
      "    )\n",
      "    for i in range(12)\n",
      "    for context in [contexts[i % len(contexts)]]\n",
      "]\n",
      "row = Row(*cols)\n",
      "grid = Container(row)"
     ],
     "language": "python",
     "metadata": {},
     "outputs": [
      {
       "javascript": [
        "\n",
        "                if(!(\"ipbs/LabelView\" in IPython.WidgetManager._view_types)){\n",
        "                    IPython.load_extensions(\"ipbs/js/LabelView\");\n",
        "                }\n",
        "            "
       ],
       "metadata": {},
       "output_type": "display_data",
       "text": [
        "<IPython.core.display.Javascript object>"
       ]
      },
      {
       "javascript": [
        "\n",
        "                if(!(\"ipbs/ColumnView\" in IPython.WidgetManager._view_types)){\n",
        "                    IPython.load_extensions(\"ipbs/js/ColumnView\");\n",
        "                }\n",
        "            "
       ],
       "metadata": {},
       "output_type": "display_data",
       "text": [
        "<IPython.core.display.Javascript object>"
       ]
      },
      {
       "javascript": [
        "\n",
        "                if(!(\"ipbs/LabelView\" in IPython.WidgetManager._view_types)){\n",
        "                    IPython.load_extensions(\"ipbs/js/LabelView\");\n",
        "                }\n",
        "            "
       ],
       "metadata": {},
       "output_type": "display_data",
       "text": [
        "<IPython.core.display.Javascript object>"
       ]
      },
      {
       "javascript": [
        "\n",
        "                if(!(\"ipbs/ColumnView\" in IPython.WidgetManager._view_types)){\n",
        "                    IPython.load_extensions(\"ipbs/js/ColumnView\");\n",
        "                }\n",
        "            "
       ],
       "metadata": {},
       "output_type": "display_data",
       "text": [
        "<IPython.core.display.Javascript object>"
       ]
      },
      {
       "javascript": [
        "\n",
        "                if(!(\"ipbs/LabelView\" in IPython.WidgetManager._view_types)){\n",
        "                    IPython.load_extensions(\"ipbs/js/LabelView\");\n",
        "                }\n",
        "            "
       ],
       "metadata": {},
       "output_type": "display_data",
       "text": [
        "<IPython.core.display.Javascript object>"
       ]
      },
      {
       "javascript": [
        "\n",
        "                if(!(\"ipbs/ColumnView\" in IPython.WidgetManager._view_types)){\n",
        "                    IPython.load_extensions(\"ipbs/js/ColumnView\");\n",
        "                }\n",
        "            "
       ],
       "metadata": {},
       "output_type": "display_data",
       "text": [
        "<IPython.core.display.Javascript object>"
       ]
      },
      {
       "javascript": [
        "\n",
        "                if(!(\"ipbs/LabelView\" in IPython.WidgetManager._view_types)){\n",
        "                    IPython.load_extensions(\"ipbs/js/LabelView\");\n",
        "                }\n",
        "            "
       ],
       "metadata": {},
       "output_type": "display_data",
       "text": [
        "<IPython.core.display.Javascript object>"
       ]
      },
      {
       "javascript": [
        "\n",
        "                if(!(\"ipbs/ColumnView\" in IPython.WidgetManager._view_types)){\n",
        "                    IPython.load_extensions(\"ipbs/js/ColumnView\");\n",
        "                }\n",
        "            "
       ],
       "metadata": {},
       "output_type": "display_data",
       "text": [
        "<IPython.core.display.Javascript object>"
       ]
      },
      {
       "javascript": [
        "\n",
        "                if(!(\"ipbs/LabelView\" in IPython.WidgetManager._view_types)){\n",
        "                    IPython.load_extensions(\"ipbs/js/LabelView\");\n",
        "                }\n",
        "            "
       ],
       "metadata": {},
       "output_type": "display_data",
       "text": [
        "<IPython.core.display.Javascript object>"
       ]
      },
      {
       "javascript": [
        "\n",
        "                if(!(\"ipbs/ColumnView\" in IPython.WidgetManager._view_types)){\n",
        "                    IPython.load_extensions(\"ipbs/js/ColumnView\");\n",
        "                }\n",
        "            "
       ],
       "metadata": {},
       "output_type": "display_data",
       "text": [
        "<IPython.core.display.Javascript object>"
       ]
      },
      {
       "javascript": [
        "\n",
        "                if(!(\"ipbs/LabelView\" in IPython.WidgetManager._view_types)){\n",
        "                    IPython.load_extensions(\"ipbs/js/LabelView\");\n",
        "                }\n",
        "            "
       ],
       "metadata": {},
       "output_type": "display_data",
       "text": [
        "<IPython.core.display.Javascript object>"
       ]
      },
      {
       "javascript": [
        "\n",
        "                if(!(\"ipbs/ColumnView\" in IPython.WidgetManager._view_types)){\n",
        "                    IPython.load_extensions(\"ipbs/js/ColumnView\");\n",
        "                }\n",
        "            "
       ],
       "metadata": {},
       "output_type": "display_data",
       "text": [
        "<IPython.core.display.Javascript object>"
       ]
      },
      {
       "javascript": [
        "\n",
        "                if(!(\"ipbs/LabelView\" in IPython.WidgetManager._view_types)){\n",
        "                    IPython.load_extensions(\"ipbs/js/LabelView\");\n",
        "                }\n",
        "            "
       ],
       "metadata": {},
       "output_type": "display_data",
       "text": [
        "<IPython.core.display.Javascript object>"
       ]
      },
      {
       "javascript": [
        "\n",
        "                if(!(\"ipbs/ColumnView\" in IPython.WidgetManager._view_types)){\n",
        "                    IPython.load_extensions(\"ipbs/js/ColumnView\");\n",
        "                }\n",
        "            "
       ],
       "metadata": {},
       "output_type": "display_data",
       "text": [
        "<IPython.core.display.Javascript object>"
       ]
      },
      {
       "javascript": [
        "\n",
        "                if(!(\"ipbs/LabelView\" in IPython.WidgetManager._view_types)){\n",
        "                    IPython.load_extensions(\"ipbs/js/LabelView\");\n",
        "                }\n",
        "            "
       ],
       "metadata": {},
       "output_type": "display_data",
       "text": [
        "<IPython.core.display.Javascript object>"
       ]
      },
      {
       "javascript": [
        "\n",
        "                if(!(\"ipbs/ColumnView\" in IPython.WidgetManager._view_types)){\n",
        "                    IPython.load_extensions(\"ipbs/js/ColumnView\");\n",
        "                }\n",
        "            "
       ],
       "metadata": {},
       "output_type": "display_data",
       "text": [
        "<IPython.core.display.Javascript object>"
       ]
      },
      {
       "javascript": [
        "\n",
        "                if(!(\"ipbs/LabelView\" in IPython.WidgetManager._view_types)){\n",
        "                    IPython.load_extensions(\"ipbs/js/LabelView\");\n",
        "                }\n",
        "            "
       ],
       "metadata": {},
       "output_type": "display_data",
       "text": [
        "<IPython.core.display.Javascript object>"
       ]
      },
      {
       "javascript": [
        "\n",
        "                if(!(\"ipbs/ColumnView\" in IPython.WidgetManager._view_types)){\n",
        "                    IPython.load_extensions(\"ipbs/js/ColumnView\");\n",
        "                }\n",
        "            "
       ],
       "metadata": {},
       "output_type": "display_data",
       "text": [
        "<IPython.core.display.Javascript object>"
       ]
      },
      {
       "javascript": [
        "\n",
        "                if(!(\"ipbs/LabelView\" in IPython.WidgetManager._view_types)){\n",
        "                    IPython.load_extensions(\"ipbs/js/LabelView\");\n",
        "                }\n",
        "            "
       ],
       "metadata": {},
       "output_type": "display_data",
       "text": [
        "<IPython.core.display.Javascript object>"
       ]
      },
      {
       "javascript": [
        "\n",
        "                if(!(\"ipbs/ColumnView\" in IPython.WidgetManager._view_types)){\n",
        "                    IPython.load_extensions(\"ipbs/js/ColumnView\");\n",
        "                }\n",
        "            "
       ],
       "metadata": {},
       "output_type": "display_data",
       "text": [
        "<IPython.core.display.Javascript object>"
       ]
      },
      {
       "javascript": [
        "\n",
        "                if(!(\"ipbs/LabelView\" in IPython.WidgetManager._view_types)){\n",
        "                    IPython.load_extensions(\"ipbs/js/LabelView\");\n",
        "                }\n",
        "            "
       ],
       "metadata": {},
       "output_type": "display_data",
       "text": [
        "<IPython.core.display.Javascript object>"
       ]
      },
      {
       "javascript": [
        "\n",
        "                if(!(\"ipbs/ColumnView\" in IPython.WidgetManager._view_types)){\n",
        "                    IPython.load_extensions(\"ipbs/js/ColumnView\");\n",
        "                }\n",
        "            "
       ],
       "metadata": {},
       "output_type": "display_data",
       "text": [
        "<IPython.core.display.Javascript object>"
       ]
      },
      {
       "javascript": [
        "\n",
        "                if(!(\"ipbs/LabelView\" in IPython.WidgetManager._view_types)){\n",
        "                    IPython.load_extensions(\"ipbs/js/LabelView\");\n",
        "                }\n",
        "            "
       ],
       "metadata": {},
       "output_type": "display_data",
       "text": [
        "<IPython.core.display.Javascript object>"
       ]
      },
      {
       "javascript": [
        "\n",
        "                if(!(\"ipbs/ColumnView\" in IPython.WidgetManager._view_types)){\n",
        "                    IPython.load_extensions(\"ipbs/js/ColumnView\");\n",
        "                }\n",
        "            "
       ],
       "metadata": {},
       "output_type": "display_data",
       "text": [
        "<IPython.core.display.Javascript object>"
       ]
      },
      {
       "javascript": [
        "\n",
        "                if(!(\"ipbs/RowView\" in IPython.WidgetManager._view_types)){\n",
        "                    IPython.load_extensions(\"ipbs/js/RowView\");\n",
        "                }\n",
        "            "
       ],
       "metadata": {},
       "output_type": "display_data",
       "text": [
        "<IPython.core.display.Javascript object>"
       ]
      },
      {
       "javascript": [
        "$(\"head\").append($(\"<link/>\").attr({\n",
        "  rel:  \"stylesheet\",\n",
        "  type: \"text/css\",\n",
        "  href: \"/nbextensions/ipbs/css/ContainerView.css\"\n",
        "}));\n",
        "\n",
        "                if(!(\"ipbs/ContainerView\" in IPython.WidgetManager._view_types)){\n",
        "                    IPython.load_extensions(\"ipbs/js/ContainerView\");\n",
        "                }\n",
        "            "
       ],
       "metadata": {},
       "output_type": "display_data",
       "text": [
        "<IPython.core.display.Javascript object>"
       ]
      }
     ],
     "prompt_number": 8
    },
    {
     "cell_type": "markdown",
     "metadata": {},
     "source": [
      "Display the widget:"
     ]
    },
    {
     "cell_type": "code",
     "collapsed": false,
     "input": [
      "grid"
     ],
     "language": "python",
     "metadata": {},
     "outputs": [],
     "prompt_number": 9
    },
    {
     "cell_type": "code",
     "collapsed": false,
     "input": [
      "Container(*[\n",
      "    Row(Column(Label(\"Offset %s\" % i)) + i)\n",
      "    for i in range(12)\n",
      "])"
     ],
     "language": "python",
     "metadata": {},
     "outputs": [
      {
       "javascript": [
        "\n",
        "                if(!(\"ipbs/LabelView\" in IPython.WidgetManager._view_types)){\n",
        "                    IPython.load_extensions(\"ipbs/js/LabelView\");\n",
        "                }\n",
        "            "
       ],
       "metadata": {},
       "output_type": "display_data",
       "text": [
        "<IPython.core.display.Javascript object>"
       ]
      },
      {
       "javascript": [
        "\n",
        "                if(!(\"ipbs/ColumnView\" in IPython.WidgetManager._view_types)){\n",
        "                    IPython.load_extensions(\"ipbs/js/ColumnView\");\n",
        "                }\n",
        "            "
       ],
       "metadata": {},
       "output_type": "display_data",
       "text": [
        "<IPython.core.display.Javascript object>"
       ]
      },
      {
       "javascript": [
        "\n",
        "                if(!(\"ipbs/RowView\" in IPython.WidgetManager._view_types)){\n",
        "                    IPython.load_extensions(\"ipbs/js/RowView\");\n",
        "                }\n",
        "            "
       ],
       "metadata": {},
       "output_type": "display_data",
       "text": [
        "<IPython.core.display.Javascript object>"
       ]
      },
      {
       "javascript": [
        "\n",
        "                if(!(\"ipbs/LabelView\" in IPython.WidgetManager._view_types)){\n",
        "                    IPython.load_extensions(\"ipbs/js/LabelView\");\n",
        "                }\n",
        "            "
       ],
       "metadata": {},
       "output_type": "display_data",
       "text": [
        "<IPython.core.display.Javascript object>"
       ]
      },
      {
       "javascript": [
        "\n",
        "                if(!(\"ipbs/ColumnView\" in IPython.WidgetManager._view_types)){\n",
        "                    IPython.load_extensions(\"ipbs/js/ColumnView\");\n",
        "                }\n",
        "            "
       ],
       "metadata": {},
       "output_type": "display_data",
       "text": [
        "<IPython.core.display.Javascript object>"
       ]
      },
      {
       "javascript": [
        "\n",
        "                if(!(\"ipbs/RowView\" in IPython.WidgetManager._view_types)){\n",
        "                    IPython.load_extensions(\"ipbs/js/RowView\");\n",
        "                }\n",
        "            "
       ],
       "metadata": {},
       "output_type": "display_data",
       "text": [
        "<IPython.core.display.Javascript object>"
       ]
      },
      {
       "javascript": [
        "\n",
        "                if(!(\"ipbs/LabelView\" in IPython.WidgetManager._view_types)){\n",
        "                    IPython.load_extensions(\"ipbs/js/LabelView\");\n",
        "                }\n",
        "            "
       ],
       "metadata": {},
       "output_type": "display_data",
       "text": [
        "<IPython.core.display.Javascript object>"
       ]
      },
      {
       "javascript": [
        "\n",
        "                if(!(\"ipbs/ColumnView\" in IPython.WidgetManager._view_types)){\n",
        "                    IPython.load_extensions(\"ipbs/js/ColumnView\");\n",
        "                }\n",
        "            "
       ],
       "metadata": {},
       "output_type": "display_data",
       "text": [
        "<IPython.core.display.Javascript object>"
       ]
      },
      {
       "javascript": [
        "\n",
        "                if(!(\"ipbs/RowView\" in IPython.WidgetManager._view_types)){\n",
        "                    IPython.load_extensions(\"ipbs/js/RowView\");\n",
        "                }\n",
        "            "
       ],
       "metadata": {},
       "output_type": "display_data",
       "text": [
        "<IPython.core.display.Javascript object>"
       ]
      },
      {
       "javascript": [
        "\n",
        "                if(!(\"ipbs/LabelView\" in IPython.WidgetManager._view_types)){\n",
        "                    IPython.load_extensions(\"ipbs/js/LabelView\");\n",
        "                }\n",
        "            "
       ],
       "metadata": {},
       "output_type": "display_data",
       "text": [
        "<IPython.core.display.Javascript object>"
       ]
      },
      {
       "javascript": [
        "\n",
        "                if(!(\"ipbs/ColumnView\" in IPython.WidgetManager._view_types)){\n",
        "                    IPython.load_extensions(\"ipbs/js/ColumnView\");\n",
        "                }\n",
        "            "
       ],
       "metadata": {},
       "output_type": "display_data",
       "text": [
        "<IPython.core.display.Javascript object>"
       ]
      },
      {
       "javascript": [
        "\n",
        "                if(!(\"ipbs/RowView\" in IPython.WidgetManager._view_types)){\n",
        "                    IPython.load_extensions(\"ipbs/js/RowView\");\n",
        "                }\n",
        "            "
       ],
       "metadata": {},
       "output_type": "display_data",
       "text": [
        "<IPython.core.display.Javascript object>"
       ]
      },
      {
       "javascript": [
        "\n",
        "                if(!(\"ipbs/LabelView\" in IPython.WidgetManager._view_types)){\n",
        "                    IPython.load_extensions(\"ipbs/js/LabelView\");\n",
        "                }\n",
        "            "
       ],
       "metadata": {},
       "output_type": "display_data",
       "text": [
        "<IPython.core.display.Javascript object>"
       ]
      },
      {
       "javascript": [
        "\n",
        "                if(!(\"ipbs/ColumnView\" in IPython.WidgetManager._view_types)){\n",
        "                    IPython.load_extensions(\"ipbs/js/ColumnView\");\n",
        "                }\n",
        "            "
       ],
       "metadata": {},
       "output_type": "display_data",
       "text": [
        "<IPython.core.display.Javascript object>"
       ]
      },
      {
       "javascript": [
        "\n",
        "                if(!(\"ipbs/RowView\" in IPython.WidgetManager._view_types)){\n",
        "                    IPython.load_extensions(\"ipbs/js/RowView\");\n",
        "                }\n",
        "            "
       ],
       "metadata": {},
       "output_type": "display_data",
       "text": [
        "<IPython.core.display.Javascript object>"
       ]
      },
      {
       "javascript": [
        "\n",
        "                if(!(\"ipbs/LabelView\" in IPython.WidgetManager._view_types)){\n",
        "                    IPython.load_extensions(\"ipbs/js/LabelView\");\n",
        "                }\n",
        "            "
       ],
       "metadata": {},
       "output_type": "display_data",
       "text": [
        "<IPython.core.display.Javascript object>"
       ]
      },
      {
       "javascript": [
        "\n",
        "                if(!(\"ipbs/ColumnView\" in IPython.WidgetManager._view_types)){\n",
        "                    IPython.load_extensions(\"ipbs/js/ColumnView\");\n",
        "                }\n",
        "            "
       ],
       "metadata": {},
       "output_type": "display_data",
       "text": [
        "<IPython.core.display.Javascript object>"
       ]
      },
      {
       "javascript": [
        "\n",
        "                if(!(\"ipbs/RowView\" in IPython.WidgetManager._view_types)){\n",
        "                    IPython.load_extensions(\"ipbs/js/RowView\");\n",
        "                }\n",
        "            "
       ],
       "metadata": {},
       "output_type": "display_data",
       "text": [
        "<IPython.core.display.Javascript object>"
       ]
      },
      {
       "javascript": [
        "\n",
        "                if(!(\"ipbs/LabelView\" in IPython.WidgetManager._view_types)){\n",
        "                    IPython.load_extensions(\"ipbs/js/LabelView\");\n",
        "                }\n",
        "            "
       ],
       "metadata": {},
       "output_type": "display_data",
       "text": [
        "<IPython.core.display.Javascript object>"
       ]
      },
      {
       "javascript": [
        "\n",
        "                if(!(\"ipbs/ColumnView\" in IPython.WidgetManager._view_types)){\n",
        "                    IPython.load_extensions(\"ipbs/js/ColumnView\");\n",
        "                }\n",
        "            "
       ],
       "metadata": {},
       "output_type": "display_data",
       "text": [
        "<IPython.core.display.Javascript object>"
       ]
      },
      {
       "javascript": [
        "\n",
        "                if(!(\"ipbs/RowView\" in IPython.WidgetManager._view_types)){\n",
        "                    IPython.load_extensions(\"ipbs/js/RowView\");\n",
        "                }\n",
        "            "
       ],
       "metadata": {},
       "output_type": "display_data",
       "text": [
        "<IPython.core.display.Javascript object>"
       ]
      },
      {
       "javascript": [
        "\n",
        "                if(!(\"ipbs/LabelView\" in IPython.WidgetManager._view_types)){\n",
        "                    IPython.load_extensions(\"ipbs/js/LabelView\");\n",
        "                }\n",
        "            "
       ],
       "metadata": {},
       "output_type": "display_data",
       "text": [
        "<IPython.core.display.Javascript object>"
       ]
      },
      {
       "javascript": [
        "\n",
        "                if(!(\"ipbs/ColumnView\" in IPython.WidgetManager._view_types)){\n",
        "                    IPython.load_extensions(\"ipbs/js/ColumnView\");\n",
        "                }\n",
        "            "
       ],
       "metadata": {},
       "output_type": "display_data",
       "text": [
        "<IPython.core.display.Javascript object>"
       ]
      },
      {
       "javascript": [
        "\n",
        "                if(!(\"ipbs/RowView\" in IPython.WidgetManager._view_types)){\n",
        "                    IPython.load_extensions(\"ipbs/js/RowView\");\n",
        "                }\n",
        "            "
       ],
       "metadata": {},
       "output_type": "display_data",
       "text": [
        "<IPython.core.display.Javascript object>"
       ]
      },
      {
       "javascript": [
        "\n",
        "                if(!(\"ipbs/LabelView\" in IPython.WidgetManager._view_types)){\n",
        "                    IPython.load_extensions(\"ipbs/js/LabelView\");\n",
        "                }\n",
        "            "
       ],
       "metadata": {},
       "output_type": "display_data",
       "text": [
        "<IPython.core.display.Javascript object>"
       ]
      },
      {
       "javascript": [
        "\n",
        "                if(!(\"ipbs/ColumnView\" in IPython.WidgetManager._view_types)){\n",
        "                    IPython.load_extensions(\"ipbs/js/ColumnView\");\n",
        "                }\n",
        "            "
       ],
       "metadata": {},
       "output_type": "display_data",
       "text": [
        "<IPython.core.display.Javascript object>"
       ]
      },
      {
       "javascript": [
        "\n",
        "                if(!(\"ipbs/RowView\" in IPython.WidgetManager._view_types)){\n",
        "                    IPython.load_extensions(\"ipbs/js/RowView\");\n",
        "                }\n",
        "            "
       ],
       "metadata": {},
       "output_type": "display_data",
       "text": [
        "<IPython.core.display.Javascript object>"
       ]
      },
      {
       "javascript": [
        "\n",
        "                if(!(\"ipbs/LabelView\" in IPython.WidgetManager._view_types)){\n",
        "                    IPython.load_extensions(\"ipbs/js/LabelView\");\n",
        "                }\n",
        "            "
       ],
       "metadata": {},
       "output_type": "display_data",
       "text": [
        "<IPython.core.display.Javascript object>"
       ]
      },
      {
       "javascript": [
        "\n",
        "                if(!(\"ipbs/ColumnView\" in IPython.WidgetManager._view_types)){\n",
        "                    IPython.load_extensions(\"ipbs/js/ColumnView\");\n",
        "                }\n",
        "            "
       ],
       "metadata": {},
       "output_type": "display_data",
       "text": [
        "<IPython.core.display.Javascript object>"
       ]
      },
      {
       "javascript": [
        "\n",
        "                if(!(\"ipbs/RowView\" in IPython.WidgetManager._view_types)){\n",
        "                    IPython.load_extensions(\"ipbs/js/RowView\");\n",
        "                }\n",
        "            "
       ],
       "metadata": {},
       "output_type": "display_data",
       "text": [
        "<IPython.core.display.Javascript object>"
       ]
      },
      {
       "javascript": [
        "\n",
        "                if(!(\"ipbs/LabelView\" in IPython.WidgetManager._view_types)){\n",
        "                    IPython.load_extensions(\"ipbs/js/LabelView\");\n",
        "                }\n",
        "            "
       ],
       "metadata": {},
       "output_type": "display_data",
       "text": [
        "<IPython.core.display.Javascript object>"
       ]
      },
      {
       "javascript": [
        "\n",
        "                if(!(\"ipbs/ColumnView\" in IPython.WidgetManager._view_types)){\n",
        "                    IPython.load_extensions(\"ipbs/js/ColumnView\");\n",
        "                }\n",
        "            "
       ],
       "metadata": {},
       "output_type": "display_data",
       "text": [
        "<IPython.core.display.Javascript object>"
       ]
      },
      {
       "javascript": [
        "\n",
        "                if(!(\"ipbs/RowView\" in IPython.WidgetManager._view_types)){\n",
        "                    IPython.load_extensions(\"ipbs/js/RowView\");\n",
        "                }\n",
        "            "
       ],
       "metadata": {},
       "output_type": "display_data",
       "text": [
        "<IPython.core.display.Javascript object>"
       ]
      },
      {
       "javascript": [
        "\n",
        "                if(!(\"ipbs/LabelView\" in IPython.WidgetManager._view_types)){\n",
        "                    IPython.load_extensions(\"ipbs/js/LabelView\");\n",
        "                }\n",
        "            "
       ],
       "metadata": {},
       "output_type": "display_data",
       "text": [
        "<IPython.core.display.Javascript object>"
       ]
      },
      {
       "javascript": [
        "\n",
        "                if(!(\"ipbs/ColumnView\" in IPython.WidgetManager._view_types)){\n",
        "                    IPython.load_extensions(\"ipbs/js/ColumnView\");\n",
        "                }\n",
        "            "
       ],
       "metadata": {},
       "output_type": "display_data",
       "text": [
        "<IPython.core.display.Javascript object>"
       ]
      },
      {
       "javascript": [
        "\n",
        "                if(!(\"ipbs/RowView\" in IPython.WidgetManager._view_types)){\n",
        "                    IPython.load_extensions(\"ipbs/js/RowView\");\n",
        "                }\n",
        "            "
       ],
       "metadata": {},
       "output_type": "display_data",
       "text": [
        "<IPython.core.display.Javascript object>"
       ]
      },
      {
       "javascript": [
        "$(\"head\").append($(\"<link/>\").attr({\n",
        "  rel:  \"stylesheet\",\n",
        "  type: \"text/css\",\n",
        "  href: \"/nbextensions/ipbs/css/ContainerView.css\"\n",
        "}));\n",
        "\n",
        "                if(!(\"ipbs/ContainerView\" in IPython.WidgetManager._view_types)){\n",
        "                    IPython.load_extensions(\"ipbs/js/ContainerView\");\n",
        "                }\n",
        "            "
       ],
       "metadata": {},
       "output_type": "display_data",
       "text": [
        "<IPython.core.display.Javascript object>"
       ]
      }
     ],
     "prompt_number": 10
    },
    {
     "cell_type": "code",
     "collapsed": false,
     "input": [
      "Container(*[\n",
      "    Row(Column(Label(\"Push %s\" % i)) > i)\n",
      "    for i in range(12)\n",
      "])"
     ],
     "language": "python",
     "metadata": {},
     "outputs": [
      {
       "javascript": [
        "\n",
        "                if(!(\"ipbs/LabelView\" in IPython.WidgetManager._view_types)){\n",
        "                    IPython.load_extensions(\"ipbs/js/LabelView\");\n",
        "                }\n",
        "            "
       ],
       "metadata": {},
       "output_type": "display_data",
       "text": [
        "<IPython.core.display.Javascript object>"
       ]
      },
      {
       "javascript": [
        "\n",
        "                if(!(\"ipbs/ColumnView\" in IPython.WidgetManager._view_types)){\n",
        "                    IPython.load_extensions(\"ipbs/js/ColumnView\");\n",
        "                }\n",
        "            "
       ],
       "metadata": {},
       "output_type": "display_data",
       "text": [
        "<IPython.core.display.Javascript object>"
       ]
      },
      {
       "javascript": [
        "\n",
        "                if(!(\"ipbs/RowView\" in IPython.WidgetManager._view_types)){\n",
        "                    IPython.load_extensions(\"ipbs/js/RowView\");\n",
        "                }\n",
        "            "
       ],
       "metadata": {},
       "output_type": "display_data",
       "text": [
        "<IPython.core.display.Javascript object>"
       ]
      },
      {
       "javascript": [
        "\n",
        "                if(!(\"ipbs/LabelView\" in IPython.WidgetManager._view_types)){\n",
        "                    IPython.load_extensions(\"ipbs/js/LabelView\");\n",
        "                }\n",
        "            "
       ],
       "metadata": {},
       "output_type": "display_data",
       "text": [
        "<IPython.core.display.Javascript object>"
       ]
      },
      {
       "javascript": [
        "\n",
        "                if(!(\"ipbs/ColumnView\" in IPython.WidgetManager._view_types)){\n",
        "                    IPython.load_extensions(\"ipbs/js/ColumnView\");\n",
        "                }\n",
        "            "
       ],
       "metadata": {},
       "output_type": "display_data",
       "text": [
        "<IPython.core.display.Javascript object>"
       ]
      },
      {
       "javascript": [
        "\n",
        "                if(!(\"ipbs/RowView\" in IPython.WidgetManager._view_types)){\n",
        "                    IPython.load_extensions(\"ipbs/js/RowView\");\n",
        "                }\n",
        "            "
       ],
       "metadata": {},
       "output_type": "display_data",
       "text": [
        "<IPython.core.display.Javascript object>"
       ]
      },
      {
       "javascript": [
        "\n",
        "                if(!(\"ipbs/LabelView\" in IPython.WidgetManager._view_types)){\n",
        "                    IPython.load_extensions(\"ipbs/js/LabelView\");\n",
        "                }\n",
        "            "
       ],
       "metadata": {},
       "output_type": "display_data",
       "text": [
        "<IPython.core.display.Javascript object>"
       ]
      },
      {
       "javascript": [
        "\n",
        "                if(!(\"ipbs/ColumnView\" in IPython.WidgetManager._view_types)){\n",
        "                    IPython.load_extensions(\"ipbs/js/ColumnView\");\n",
        "                }\n",
        "            "
       ],
       "metadata": {},
       "output_type": "display_data",
       "text": [
        "<IPython.core.display.Javascript object>"
       ]
      },
      {
       "javascript": [
        "\n",
        "                if(!(\"ipbs/RowView\" in IPython.WidgetManager._view_types)){\n",
        "                    IPython.load_extensions(\"ipbs/js/RowView\");\n",
        "                }\n",
        "            "
       ],
       "metadata": {},
       "output_type": "display_data",
       "text": [
        "<IPython.core.display.Javascript object>"
       ]
      },
      {
       "javascript": [
        "\n",
        "                if(!(\"ipbs/LabelView\" in IPython.WidgetManager._view_types)){\n",
        "                    IPython.load_extensions(\"ipbs/js/LabelView\");\n",
        "                }\n",
        "            "
       ],
       "metadata": {},
       "output_type": "display_data",
       "text": [
        "<IPython.core.display.Javascript object>"
       ]
      },
      {
       "javascript": [
        "\n",
        "                if(!(\"ipbs/ColumnView\" in IPython.WidgetManager._view_types)){\n",
        "                    IPython.load_extensions(\"ipbs/js/ColumnView\");\n",
        "                }\n",
        "            "
       ],
       "metadata": {},
       "output_type": "display_data",
       "text": [
        "<IPython.core.display.Javascript object>"
       ]
      },
      {
       "javascript": [
        "\n",
        "                if(!(\"ipbs/RowView\" in IPython.WidgetManager._view_types)){\n",
        "                    IPython.load_extensions(\"ipbs/js/RowView\");\n",
        "                }\n",
        "            "
       ],
       "metadata": {},
       "output_type": "display_data",
       "text": [
        "<IPython.core.display.Javascript object>"
       ]
      },
      {
       "javascript": [
        "\n",
        "                if(!(\"ipbs/LabelView\" in IPython.WidgetManager._view_types)){\n",
        "                    IPython.load_extensions(\"ipbs/js/LabelView\");\n",
        "                }\n",
        "            "
       ],
       "metadata": {},
       "output_type": "display_data",
       "text": [
        "<IPython.core.display.Javascript object>"
       ]
      },
      {
       "javascript": [
        "\n",
        "                if(!(\"ipbs/ColumnView\" in IPython.WidgetManager._view_types)){\n",
        "                    IPython.load_extensions(\"ipbs/js/ColumnView\");\n",
        "                }\n",
        "            "
       ],
       "metadata": {},
       "output_type": "display_data",
       "text": [
        "<IPython.core.display.Javascript object>"
       ]
      },
      {
       "javascript": [
        "\n",
        "                if(!(\"ipbs/RowView\" in IPython.WidgetManager._view_types)){\n",
        "                    IPython.load_extensions(\"ipbs/js/RowView\");\n",
        "                }\n",
        "            "
       ],
       "metadata": {},
       "output_type": "display_data",
       "text": [
        "<IPython.core.display.Javascript object>"
       ]
      },
      {
       "javascript": [
        "\n",
        "                if(!(\"ipbs/LabelView\" in IPython.WidgetManager._view_types)){\n",
        "                    IPython.load_extensions(\"ipbs/js/LabelView\");\n",
        "                }\n",
        "            "
       ],
       "metadata": {},
       "output_type": "display_data",
       "text": [
        "<IPython.core.display.Javascript object>"
       ]
      },
      {
       "javascript": [
        "\n",
        "                if(!(\"ipbs/ColumnView\" in IPython.WidgetManager._view_types)){\n",
        "                    IPython.load_extensions(\"ipbs/js/ColumnView\");\n",
        "                }\n",
        "            "
       ],
       "metadata": {},
       "output_type": "display_data",
       "text": [
        "<IPython.core.display.Javascript object>"
       ]
      },
      {
       "javascript": [
        "\n",
        "                if(!(\"ipbs/RowView\" in IPython.WidgetManager._view_types)){\n",
        "                    IPython.load_extensions(\"ipbs/js/RowView\");\n",
        "                }\n",
        "            "
       ],
       "metadata": {},
       "output_type": "display_data",
       "text": [
        "<IPython.core.display.Javascript object>"
       ]
      },
      {
       "javascript": [
        "\n",
        "                if(!(\"ipbs/LabelView\" in IPython.WidgetManager._view_types)){\n",
        "                    IPython.load_extensions(\"ipbs/js/LabelView\");\n",
        "                }\n",
        "            "
       ],
       "metadata": {},
       "output_type": "display_data",
       "text": [
        "<IPython.core.display.Javascript object>"
       ]
      },
      {
       "javascript": [
        "\n",
        "                if(!(\"ipbs/ColumnView\" in IPython.WidgetManager._view_types)){\n",
        "                    IPython.load_extensions(\"ipbs/js/ColumnView\");\n",
        "                }\n",
        "            "
       ],
       "metadata": {},
       "output_type": "display_data",
       "text": [
        "<IPython.core.display.Javascript object>"
       ]
      },
      {
       "javascript": [
        "\n",
        "                if(!(\"ipbs/RowView\" in IPython.WidgetManager._view_types)){\n",
        "                    IPython.load_extensions(\"ipbs/js/RowView\");\n",
        "                }\n",
        "            "
       ],
       "metadata": {},
       "output_type": "display_data",
       "text": [
        "<IPython.core.display.Javascript object>"
       ]
      },
      {
       "javascript": [
        "\n",
        "                if(!(\"ipbs/LabelView\" in IPython.WidgetManager._view_types)){\n",
        "                    IPython.load_extensions(\"ipbs/js/LabelView\");\n",
        "                }\n",
        "            "
       ],
       "metadata": {},
       "output_type": "display_data",
       "text": [
        "<IPython.core.display.Javascript object>"
       ]
      },
      {
       "javascript": [
        "\n",
        "                if(!(\"ipbs/ColumnView\" in IPython.WidgetManager._view_types)){\n",
        "                    IPython.load_extensions(\"ipbs/js/ColumnView\");\n",
        "                }\n",
        "            "
       ],
       "metadata": {},
       "output_type": "display_data",
       "text": [
        "<IPython.core.display.Javascript object>"
       ]
      },
      {
       "javascript": [
        "\n",
        "                if(!(\"ipbs/RowView\" in IPython.WidgetManager._view_types)){\n",
        "                    IPython.load_extensions(\"ipbs/js/RowView\");\n",
        "                }\n",
        "            "
       ],
       "metadata": {},
       "output_type": "display_data",
       "text": [
        "<IPython.core.display.Javascript object>"
       ]
      },
      {
       "javascript": [
        "\n",
        "                if(!(\"ipbs/LabelView\" in IPython.WidgetManager._view_types)){\n",
        "                    IPython.load_extensions(\"ipbs/js/LabelView\");\n",
        "                }\n",
        "            "
       ],
       "metadata": {},
       "output_type": "display_data",
       "text": [
        "<IPython.core.display.Javascript object>"
       ]
      },
      {
       "javascript": [
        "\n",
        "                if(!(\"ipbs/ColumnView\" in IPython.WidgetManager._view_types)){\n",
        "                    IPython.load_extensions(\"ipbs/js/ColumnView\");\n",
        "                }\n",
        "            "
       ],
       "metadata": {},
       "output_type": "display_data",
       "text": [
        "<IPython.core.display.Javascript object>"
       ]
      },
      {
       "javascript": [
        "\n",
        "                if(!(\"ipbs/RowView\" in IPython.WidgetManager._view_types)){\n",
        "                    IPython.load_extensions(\"ipbs/js/RowView\");\n",
        "                }\n",
        "            "
       ],
       "metadata": {},
       "output_type": "display_data",
       "text": [
        "<IPython.core.display.Javascript object>"
       ]
      },
      {
       "javascript": [
        "\n",
        "                if(!(\"ipbs/LabelView\" in IPython.WidgetManager._view_types)){\n",
        "                    IPython.load_extensions(\"ipbs/js/LabelView\");\n",
        "                }\n",
        "            "
       ],
       "metadata": {},
       "output_type": "display_data",
       "text": [
        "<IPython.core.display.Javascript object>"
       ]
      },
      {
       "javascript": [
        "\n",
        "                if(!(\"ipbs/ColumnView\" in IPython.WidgetManager._view_types)){\n",
        "                    IPython.load_extensions(\"ipbs/js/ColumnView\");\n",
        "                }\n",
        "            "
       ],
       "metadata": {},
       "output_type": "display_data",
       "text": [
        "<IPython.core.display.Javascript object>"
       ]
      },
      {
       "javascript": [
        "\n",
        "                if(!(\"ipbs/RowView\" in IPython.WidgetManager._view_types)){\n",
        "                    IPython.load_extensions(\"ipbs/js/RowView\");\n",
        "                }\n",
        "            "
       ],
       "metadata": {},
       "output_type": "display_data",
       "text": [
        "<IPython.core.display.Javascript object>"
       ]
      },
      {
       "javascript": [
        "\n",
        "                if(!(\"ipbs/LabelView\" in IPython.WidgetManager._view_types)){\n",
        "                    IPython.load_extensions(\"ipbs/js/LabelView\");\n",
        "                }\n",
        "            "
       ],
       "metadata": {},
       "output_type": "display_data",
       "text": [
        "<IPython.core.display.Javascript object>"
       ]
      },
      {
       "javascript": [
        "\n",
        "                if(!(\"ipbs/ColumnView\" in IPython.WidgetManager._view_types)){\n",
        "                    IPython.load_extensions(\"ipbs/js/ColumnView\");\n",
        "                }\n",
        "            "
       ],
       "metadata": {},
       "output_type": "display_data",
       "text": [
        "<IPython.core.display.Javascript object>"
       ]
      },
      {
       "javascript": [
        "\n",
        "                if(!(\"ipbs/RowView\" in IPython.WidgetManager._view_types)){\n",
        "                    IPython.load_extensions(\"ipbs/js/RowView\");\n",
        "                }\n",
        "            "
       ],
       "metadata": {},
       "output_type": "display_data",
       "text": [
        "<IPython.core.display.Javascript object>"
       ]
      },
      {
       "javascript": [
        "\n",
        "                if(!(\"ipbs/LabelView\" in IPython.WidgetManager._view_types)){\n",
        "                    IPython.load_extensions(\"ipbs/js/LabelView\");\n",
        "                }\n",
        "            "
       ],
       "metadata": {},
       "output_type": "display_data",
       "text": [
        "<IPython.core.display.Javascript object>"
       ]
      },
      {
       "javascript": [
        "\n",
        "                if(!(\"ipbs/ColumnView\" in IPython.WidgetManager._view_types)){\n",
        "                    IPython.load_extensions(\"ipbs/js/ColumnView\");\n",
        "                }\n",
        "            "
       ],
       "metadata": {},
       "output_type": "display_data",
       "text": [
        "<IPython.core.display.Javascript object>"
       ]
      },
      {
       "javascript": [
        "\n",
        "                if(!(\"ipbs/RowView\" in IPython.WidgetManager._view_types)){\n",
        "                    IPython.load_extensions(\"ipbs/js/RowView\");\n",
        "                }\n",
        "            "
       ],
       "metadata": {},
       "output_type": "display_data",
       "text": [
        "<IPython.core.display.Javascript object>"
       ]
      },
      {
       "javascript": [
        "$(\"head\").append($(\"<link/>\").attr({\n",
        "  rel:  \"stylesheet\",\n",
        "  type: \"text/css\",\n",
        "  href: \"/nbextensions/ipbs/css/ContainerView.css\"\n",
        "}));\n",
        "\n",
        "                if(!(\"ipbs/ContainerView\" in IPython.WidgetManager._view_types)){\n",
        "                    IPython.load_extensions(\"ipbs/js/ContainerView\");\n",
        "                }\n",
        "            "
       ],
       "metadata": {},
       "output_type": "display_data",
       "text": [
        "<IPython.core.display.Javascript object>"
       ]
      }
     ],
     "prompt_number": 11
    },
    {
     "cell_type": "code",
     "collapsed": false,
     "input": [
      "Container(*[\n",
      "    Row(Column(Label(\"Pull %s\" % i)) < i)\n",
      "    for i in range(12)\n",
      "])"
     ],
     "language": "python",
     "metadata": {},
     "outputs": [
      {
       "javascript": [
        "\n",
        "                if(!(\"ipbs/LabelView\" in IPython.WidgetManager._view_types)){\n",
        "                    IPython.load_extensions(\"ipbs/js/LabelView\");\n",
        "                }\n",
        "            "
       ],
       "metadata": {},
       "output_type": "display_data",
       "text": [
        "<IPython.core.display.Javascript object>"
       ]
      },
      {
       "javascript": [
        "\n",
        "                if(!(\"ipbs/ColumnView\" in IPython.WidgetManager._view_types)){\n",
        "                    IPython.load_extensions(\"ipbs/js/ColumnView\");\n",
        "                }\n",
        "            "
       ],
       "metadata": {},
       "output_type": "display_data",
       "text": [
        "<IPython.core.display.Javascript object>"
       ]
      },
      {
       "javascript": [
        "\n",
        "                if(!(\"ipbs/RowView\" in IPython.WidgetManager._view_types)){\n",
        "                    IPython.load_extensions(\"ipbs/js/RowView\");\n",
        "                }\n",
        "            "
       ],
       "metadata": {},
       "output_type": "display_data",
       "text": [
        "<IPython.core.display.Javascript object>"
       ]
      },
      {
       "javascript": [
        "\n",
        "                if(!(\"ipbs/LabelView\" in IPython.WidgetManager._view_types)){\n",
        "                    IPython.load_extensions(\"ipbs/js/LabelView\");\n",
        "                }\n",
        "            "
       ],
       "metadata": {},
       "output_type": "display_data",
       "text": [
        "<IPython.core.display.Javascript object>"
       ]
      },
      {
       "javascript": [
        "\n",
        "                if(!(\"ipbs/ColumnView\" in IPython.WidgetManager._view_types)){\n",
        "                    IPython.load_extensions(\"ipbs/js/ColumnView\");\n",
        "                }\n",
        "            "
       ],
       "metadata": {},
       "output_type": "display_data",
       "text": [
        "<IPython.core.display.Javascript object>"
       ]
      },
      {
       "javascript": [
        "\n",
        "                if(!(\"ipbs/RowView\" in IPython.WidgetManager._view_types)){\n",
        "                    IPython.load_extensions(\"ipbs/js/RowView\");\n",
        "                }\n",
        "            "
       ],
       "metadata": {},
       "output_type": "display_data",
       "text": [
        "<IPython.core.display.Javascript object>"
       ]
      },
      {
       "javascript": [
        "\n",
        "                if(!(\"ipbs/LabelView\" in IPython.WidgetManager._view_types)){\n",
        "                    IPython.load_extensions(\"ipbs/js/LabelView\");\n",
        "                }\n",
        "            "
       ],
       "metadata": {},
       "output_type": "display_data",
       "text": [
        "<IPython.core.display.Javascript object>"
       ]
      },
      {
       "javascript": [
        "\n",
        "                if(!(\"ipbs/ColumnView\" in IPython.WidgetManager._view_types)){\n",
        "                    IPython.load_extensions(\"ipbs/js/ColumnView\");\n",
        "                }\n",
        "            "
       ],
       "metadata": {},
       "output_type": "display_data",
       "text": [
        "<IPython.core.display.Javascript object>"
       ]
      },
      {
       "javascript": [
        "\n",
        "                if(!(\"ipbs/RowView\" in IPython.WidgetManager._view_types)){\n",
        "                    IPython.load_extensions(\"ipbs/js/RowView\");\n",
        "                }\n",
        "            "
       ],
       "metadata": {},
       "output_type": "display_data",
       "text": [
        "<IPython.core.display.Javascript object>"
       ]
      },
      {
       "javascript": [
        "\n",
        "                if(!(\"ipbs/LabelView\" in IPython.WidgetManager._view_types)){\n",
        "                    IPython.load_extensions(\"ipbs/js/LabelView\");\n",
        "                }\n",
        "            "
       ],
       "metadata": {},
       "output_type": "display_data",
       "text": [
        "<IPython.core.display.Javascript object>"
       ]
      },
      {
       "javascript": [
        "\n",
        "                if(!(\"ipbs/ColumnView\" in IPython.WidgetManager._view_types)){\n",
        "                    IPython.load_extensions(\"ipbs/js/ColumnView\");\n",
        "                }\n",
        "            "
       ],
       "metadata": {},
       "output_type": "display_data",
       "text": [
        "<IPython.core.display.Javascript object>"
       ]
      },
      {
       "javascript": [
        "\n",
        "                if(!(\"ipbs/RowView\" in IPython.WidgetManager._view_types)){\n",
        "                    IPython.load_extensions(\"ipbs/js/RowView\");\n",
        "                }\n",
        "            "
       ],
       "metadata": {},
       "output_type": "display_data",
       "text": [
        "<IPython.core.display.Javascript object>"
       ]
      },
      {
       "javascript": [
        "\n",
        "                if(!(\"ipbs/LabelView\" in IPython.WidgetManager._view_types)){\n",
        "                    IPython.load_extensions(\"ipbs/js/LabelView\");\n",
        "                }\n",
        "            "
       ],
       "metadata": {},
       "output_type": "display_data",
       "text": [
        "<IPython.core.display.Javascript object>"
       ]
      },
      {
       "javascript": [
        "\n",
        "                if(!(\"ipbs/ColumnView\" in IPython.WidgetManager._view_types)){\n",
        "                    IPython.load_extensions(\"ipbs/js/ColumnView\");\n",
        "                }\n",
        "            "
       ],
       "metadata": {},
       "output_type": "display_data",
       "text": [
        "<IPython.core.display.Javascript object>"
       ]
      },
      {
       "javascript": [
        "\n",
        "                if(!(\"ipbs/RowView\" in IPython.WidgetManager._view_types)){\n",
        "                    IPython.load_extensions(\"ipbs/js/RowView\");\n",
        "                }\n",
        "            "
       ],
       "metadata": {},
       "output_type": "display_data",
       "text": [
        "<IPython.core.display.Javascript object>"
       ]
      },
      {
       "javascript": [
        "\n",
        "                if(!(\"ipbs/LabelView\" in IPython.WidgetManager._view_types)){\n",
        "                    IPython.load_extensions(\"ipbs/js/LabelView\");\n",
        "                }\n",
        "            "
       ],
       "metadata": {},
       "output_type": "display_data",
       "text": [
        "<IPython.core.display.Javascript object>"
       ]
      },
      {
       "javascript": [
        "\n",
        "                if(!(\"ipbs/ColumnView\" in IPython.WidgetManager._view_types)){\n",
        "                    IPython.load_extensions(\"ipbs/js/ColumnView\");\n",
        "                }\n",
        "            "
       ],
       "metadata": {},
       "output_type": "display_data",
       "text": [
        "<IPython.core.display.Javascript object>"
       ]
      },
      {
       "javascript": [
        "\n",
        "                if(!(\"ipbs/RowView\" in IPython.WidgetManager._view_types)){\n",
        "                    IPython.load_extensions(\"ipbs/js/RowView\");\n",
        "                }\n",
        "            "
       ],
       "metadata": {},
       "output_type": "display_data",
       "text": [
        "<IPython.core.display.Javascript object>"
       ]
      },
      {
       "javascript": [
        "\n",
        "                if(!(\"ipbs/LabelView\" in IPython.WidgetManager._view_types)){\n",
        "                    IPython.load_extensions(\"ipbs/js/LabelView\");\n",
        "                }\n",
        "            "
       ],
       "metadata": {},
       "output_type": "display_data",
       "text": [
        "<IPython.core.display.Javascript object>"
       ]
      },
      {
       "javascript": [
        "\n",
        "                if(!(\"ipbs/ColumnView\" in IPython.WidgetManager._view_types)){\n",
        "                    IPython.load_extensions(\"ipbs/js/ColumnView\");\n",
        "                }\n",
        "            "
       ],
       "metadata": {},
       "output_type": "display_data",
       "text": [
        "<IPython.core.display.Javascript object>"
       ]
      },
      {
       "javascript": [
        "\n",
        "                if(!(\"ipbs/RowView\" in IPython.WidgetManager._view_types)){\n",
        "                    IPython.load_extensions(\"ipbs/js/RowView\");\n",
        "                }\n",
        "            "
       ],
       "metadata": {},
       "output_type": "display_data",
       "text": [
        "<IPython.core.display.Javascript object>"
       ]
      },
      {
       "javascript": [
        "\n",
        "                if(!(\"ipbs/LabelView\" in IPython.WidgetManager._view_types)){\n",
        "                    IPython.load_extensions(\"ipbs/js/LabelView\");\n",
        "                }\n",
        "            "
       ],
       "metadata": {},
       "output_type": "display_data",
       "text": [
        "<IPython.core.display.Javascript object>"
       ]
      },
      {
       "javascript": [
        "\n",
        "                if(!(\"ipbs/ColumnView\" in IPython.WidgetManager._view_types)){\n",
        "                    IPython.load_extensions(\"ipbs/js/ColumnView\");\n",
        "                }\n",
        "            "
       ],
       "metadata": {},
       "output_type": "display_data",
       "text": [
        "<IPython.core.display.Javascript object>"
       ]
      },
      {
       "javascript": [
        "\n",
        "                if(!(\"ipbs/RowView\" in IPython.WidgetManager._view_types)){\n",
        "                    IPython.load_extensions(\"ipbs/js/RowView\");\n",
        "                }\n",
        "            "
       ],
       "metadata": {},
       "output_type": "display_data",
       "text": [
        "<IPython.core.display.Javascript object>"
       ]
      },
      {
       "javascript": [
        "\n",
        "                if(!(\"ipbs/LabelView\" in IPython.WidgetManager._view_types)){\n",
        "                    IPython.load_extensions(\"ipbs/js/LabelView\");\n",
        "                }\n",
        "            "
       ],
       "metadata": {},
       "output_type": "display_data",
       "text": [
        "<IPython.core.display.Javascript object>"
       ]
      },
      {
       "javascript": [
        "\n",
        "                if(!(\"ipbs/ColumnView\" in IPython.WidgetManager._view_types)){\n",
        "                    IPython.load_extensions(\"ipbs/js/ColumnView\");\n",
        "                }\n",
        "            "
       ],
       "metadata": {},
       "output_type": "display_data",
       "text": [
        "<IPython.core.display.Javascript object>"
       ]
      },
      {
       "javascript": [
        "\n",
        "                if(!(\"ipbs/RowView\" in IPython.WidgetManager._view_types)){\n",
        "                    IPython.load_extensions(\"ipbs/js/RowView\");\n",
        "                }\n",
        "            "
       ],
       "metadata": {},
       "output_type": "display_data",
       "text": [
        "<IPython.core.display.Javascript object>"
       ]
      },
      {
       "javascript": [
        "\n",
        "                if(!(\"ipbs/LabelView\" in IPython.WidgetManager._view_types)){\n",
        "                    IPython.load_extensions(\"ipbs/js/LabelView\");\n",
        "                }\n",
        "            "
       ],
       "metadata": {},
       "output_type": "display_data",
       "text": [
        "<IPython.core.display.Javascript object>"
       ]
      },
      {
       "javascript": [
        "\n",
        "                if(!(\"ipbs/ColumnView\" in IPython.WidgetManager._view_types)){\n",
        "                    IPython.load_extensions(\"ipbs/js/ColumnView\");\n",
        "                }\n",
        "            "
       ],
       "metadata": {},
       "output_type": "display_data",
       "text": [
        "<IPython.core.display.Javascript object>"
       ]
      },
      {
       "javascript": [
        "\n",
        "                if(!(\"ipbs/RowView\" in IPython.WidgetManager._view_types)){\n",
        "                    IPython.load_extensions(\"ipbs/js/RowView\");\n",
        "                }\n",
        "            "
       ],
       "metadata": {},
       "output_type": "display_data",
       "text": [
        "<IPython.core.display.Javascript object>"
       ]
      },
      {
       "javascript": [
        "\n",
        "                if(!(\"ipbs/LabelView\" in IPython.WidgetManager._view_types)){\n",
        "                    IPython.load_extensions(\"ipbs/js/LabelView\");\n",
        "                }\n",
        "            "
       ],
       "metadata": {},
       "output_type": "display_data",
       "text": [
        "<IPython.core.display.Javascript object>"
       ]
      },
      {
       "javascript": [
        "\n",
        "                if(!(\"ipbs/ColumnView\" in IPython.WidgetManager._view_types)){\n",
        "                    IPython.load_extensions(\"ipbs/js/ColumnView\");\n",
        "                }\n",
        "            "
       ],
       "metadata": {},
       "output_type": "display_data",
       "text": [
        "<IPython.core.display.Javascript object>"
       ]
      },
      {
       "javascript": [
        "\n",
        "                if(!(\"ipbs/RowView\" in IPython.WidgetManager._view_types)){\n",
        "                    IPython.load_extensions(\"ipbs/js/RowView\");\n",
        "                }\n",
        "            "
       ],
       "metadata": {},
       "output_type": "display_data",
       "text": [
        "<IPython.core.display.Javascript object>"
       ]
      },
      {
       "javascript": [
        "\n",
        "                if(!(\"ipbs/LabelView\" in IPython.WidgetManager._view_types)){\n",
        "                    IPython.load_extensions(\"ipbs/js/LabelView\");\n",
        "                }\n",
        "            "
       ],
       "metadata": {},
       "output_type": "display_data",
       "text": [
        "<IPython.core.display.Javascript object>"
       ]
      },
      {
       "javascript": [
        "\n",
        "                if(!(\"ipbs/ColumnView\" in IPython.WidgetManager._view_types)){\n",
        "                    IPython.load_extensions(\"ipbs/js/ColumnView\");\n",
        "                }\n",
        "            "
       ],
       "metadata": {},
       "output_type": "display_data",
       "text": [
        "<IPython.core.display.Javascript object>"
       ]
      },
      {
       "javascript": [
        "\n",
        "                if(!(\"ipbs/RowView\" in IPython.WidgetManager._view_types)){\n",
        "                    IPython.load_extensions(\"ipbs/js/RowView\");\n",
        "                }\n",
        "            "
       ],
       "metadata": {},
       "output_type": "display_data",
       "text": [
        "<IPython.core.display.Javascript object>"
       ]
      },
      {
       "javascript": [
        "$(\"head\").append($(\"<link/>\").attr({\n",
        "  rel:  \"stylesheet\",\n",
        "  type: \"text/css\",\n",
        "  href: \"/nbextensions/ipbs/css/ContainerView.css\"\n",
        "}));\n",
        "\n",
        "                if(!(\"ipbs/ContainerView\" in IPython.WidgetManager._view_types)){\n",
        "                    IPython.load_extensions(\"ipbs/js/ContainerView\");\n",
        "                }\n",
        "            "
       ],
       "metadata": {},
       "output_type": "display_data",
       "text": [
        "<IPython.core.display.Javascript object>"
       ]
      }
     ],
     "prompt_number": 12
    }
   ],
   "metadata": {}
  }
 ]
}